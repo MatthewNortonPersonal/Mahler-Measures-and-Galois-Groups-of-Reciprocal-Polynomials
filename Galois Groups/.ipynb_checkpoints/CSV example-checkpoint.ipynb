{
 "cells": [
  {
   "cell_type": "code",
   "execution_count": null,
   "id": "68b23aaa",
   "metadata": {},
   "outputs": [],
   "source": [
    "import pandas as pd\n",
    "import matplotlib.pyplot as plt\n",
    "import numpy as np\n",
    "import os"
   ]
  },
  {
   "cell_type": "code",
   "execution_count": null,
   "id": "555aa9ab",
   "metadata": {},
   "outputs": [],
   "source": [
    "print(os.getcwd()) #This is your current directory\n",
    "df = pd.read_csv(\"../degree 12 up to 3.csv\") #here just include the path to the csv file\n",
    "df[\"discriminant\"] = df[\"discriminant\"].astype(np.double).abs()"
   ]
  },
  {
   "cell_type": "code",
   "execution_count": null,
   "id": "b5ee969f",
   "metadata": {},
   "outputs": [],
   "source": [
    "plt.figure(figsize=(20,10))\n",
    "plt.scatter(np.log(df[\"discriminant\"]),np.log(df[\"Mahler measure\"]), color = \"blue\")\n",
    "plt.scatter(np.log(df[df[\"Galois of trace\"]==\"6T7\"][\"discriminant\"]),np.log(df[df[\"Galois of trace\"]==\"6T7\"][\"Mahler measure\"]), color = \"lime\")"
   ]
  },
  {
   "cell_type": "code",
   "execution_count": null,
   "id": "7857cb62",
   "metadata": {},
   "outputs": [],
   "source": []
  }
 ],
 "metadata": {
  "kernelspec": {
   "display_name": "SageMath 9.5",
   "language": "sage",
   "name": "sagemath"
  },
  "language_info": {
   "codemirror_mode": {
    "name": "ipython",
    "version": 3
   },
   "file_extension": ".py",
   "mimetype": "text/x-python",
   "name": "python",
   "nbconvert_exporter": "python",
   "pygments_lexer": "ipython3",
   "version": "3.10.12"
  }
 },
 "nbformat": 4,
 "nbformat_minor": 5
}
