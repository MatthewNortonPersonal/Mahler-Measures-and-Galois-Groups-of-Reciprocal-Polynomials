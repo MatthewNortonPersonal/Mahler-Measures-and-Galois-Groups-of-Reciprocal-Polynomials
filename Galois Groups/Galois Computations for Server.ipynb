{
 "cells": [
  {
   "cell_type": "markdown",
   "id": "ecabb9d9",
   "metadata": {},
   "source": [
    "## Initial Setup\n",
    "\n",
    "Below are some imports and function definitions required for doing the computations."
   ]
  },
  {
   "cell_type": "code",
   "execution_count": 8,
   "id": "9662dac2",
   "metadata": {},
   "outputs": [],
   "source": [
    "import pandas as pd\n",
    "import time"
   ]
  },
  {
   "cell_type": "code",
   "execution_count": 9,
   "id": "909a843b",
   "metadata": {},
   "outputs": [],
   "source": [
    "A.<x> = PolynomialRing(CC)\n",
    "R.<x> = PolynomialRing(QQ)"
   ]
  },
  {
   "cell_type": "code",
   "execution_count": 19,
   "id": "07d8fdda",
   "metadata": {},
   "outputs": [],
   "source": [
    "def boxedPolys(d, b):\n",
    "    n = d / 2\n",
    "    bounds = [b * 2 + 1 for i in range(n)]\n",
    "    # print(bounds)\n",
    "    \n",
    "    possibleCoef = xmrange(bounds)\n",
    "    polys = []\n",
    "    \n",
    "    for coefs in possibleCoef:\n",
    "        coefs = [1] + [coef - b for coef in coefs]\n",
    "        coefs.extend(coefs[:-1][::-1])\n",
    "        poly = R(coefs)\n",
    "        \n",
    "        if not poly.is_irreducible():\n",
    "            # print(coefs)\n",
    "            continue\n",
    "            \n",
    "        # The section below is for if you want to filter out cyclotomic\n",
    "        # polynomials and polynomials of high Mahler measure. You need to add\n",
    "        # an extra parameter, M, to the function then\n",
    "#         mahler = mahlerMeasure(poly)\n",
    "        \n",
    "#         # print(coefs)\n",
    "        \n",
    "#         if mahler > M or mahler == 1:\n",
    "#             # print(mahler)\n",
    "#             # print(\"high\")\n",
    "#             continue\n",
    "        \n",
    "        polys.append(poly)\n",
    "    \n",
    "    return polys\n",
    "        \n",
    "def mahlerMeasure(poly):\n",
    "    tempPoly = A(poly)\n",
    "    rootList = list(tempPoly.roots())\n",
    "    measure = 1\n",
    "    \n",
    "    for s in rootList:\n",
    "        s_2 = sqrt(norm(s[0]))\n",
    "        measure = measure * max(1, s_2)\n",
    "\n",
    "    return measure"
   ]
  },
  {
   "cell_type": "code",
   "execution_count": 20,
   "id": "73f0f833",
   "metadata": {},
   "outputs": [],
   "source": [
    "# filters out the reducibles from the list of polynomial objects\n",
    "def filterOutReducibles(polys):\n",
    "    newPolys = []\n",
    "    for poly in polys:\n",
    "        if poly.is_irreducible():\n",
    "            newPolys.append(poly)\n",
    "    return newPolys\n",
    "\n",
    "\n",
    "# computes the galois group for the given polynomial.\n",
    "def getGalois(poly):\n",
    "    # make sure the polynomial is not reducible before\n",
    "    # computing its Galois group\n",
    "    # assert poly.is_irreducible()\n",
    "    K.<a> = NumberField(poly)\n",
    "    G = K.galois_group()\n",
    "    return G\n",
    "    # return G.transitive_label()\n",
    "\n",
    "def convertToPoly(coefs):\n",
    "    # Define a polynomial ring for our polynomials and convert coefs to poly using this ring\n",
    "    R = PolynomialRing(QQ, 'x')\n",
    "    return R(coefs)\n",
    "\n",
    "\n",
    "# function to get the roots and Mahler measure\n",
    "\n",
    "#Returns roots w norm greater than 1\n",
    "def bigRoots(poly): \n",
    "    S.<x> = PolynomialRing(CC)\n",
    "    tempPoly = S(poly)\n",
    "    rootList = tempPoly.roots()\n",
    "    bigRootList = []\n",
    "    for r in rootList:\n",
    "        if sqrt(norm(r[0])) > 1:\n",
    "            bigRootList.append(r)\n",
    "\n",
    "    return len(bigRootList)\n",
    "\n",
    "def realRoots(poly): \n",
    "    L.<b> = PolynomialRing(RR)\n",
    "    tempPoly = L(poly)\n",
    "    rootList = list(tempPoly.roots())\n",
    "    realRootList = []\n",
    "    for r in rootList:\n",
    "        if r[0] == conjugate(r[0]):\n",
    "            realRootList.append(r)\n",
    "\n",
    "    return len(realRootList)\n",
    "\n",
    "def mahlerMeasure(poly):\n",
    "    S.<x> = PolynomialRing(CC)\n",
    "    tempPoly = S(poly)\n",
    "    rootList = list(tempPoly.roots())\n",
    "    measure = 1\n",
    "    \n",
    "    # print(rootList)\n",
    "    \n",
    "    # question: are we dealing with multiplicity correctly?\n",
    "    for s in rootList:\n",
    "        s_2 = sqrt(norm(s[0]))\n",
    "        measure = measure * max(1, s_2)\n",
    "\n",
    "    return measure\n",
    "\n",
    "#Returns trace polynomial \n",
    "def tracePoly(poly):\n",
    "    K.<a> = NumberField(poly)\n",
    "    return (a + 1/a).minpoly()\n",
    "\n",
    "# one goal: plot the number of polynomials with Mahler Measure under a certain bound\n",
    "# as you increase the degree\n",
    "\n",
    "# things we want to collect:\n",
    "# ((f) poly, roots of f outside unit circle, # of real roots, (g) trace poly, G_f, G_g, Mahler, disc)\n",
    "# collect data into a csv (so we can plot it)\n",
    "\n",
    "def getStats(poly):\n",
    "    # poly, degree, Mahler measure, roots outside unit circle, # real roots, trace poly, galois of poly, galois of trace, discriminant, \n",
    "    trace = tracePoly(poly)\n",
    "    polyGalois = getGalois(poly)\n",
    "    polyGaloisLabel = polyGalois.transitive_label()\n",
    "    traceGalois = getGalois(trace)\n",
    "    traceGaloisLabel = traceGalois.transitive_label()\n",
    "    return [poly \n",
    "            , poly.degree()\n",
    "            , mahlerMeasure(poly) \n",
    "            , bigRoots(poly) # roots outside unit circle\n",
    "            , realRoots(poly) \n",
    "            , trace\n",
    "            , polyGaloisLabel\n",
    "            , traceGaloisLabel\n",
    "            , disc(poly) # discriminant\n",
    "            , polyGalois.order()\n",
    "            , traceGalois.order()\n",
    "            , polyGalois.order() / traceGalois.order()\n",
    "          ] "
   ]
  },
  {
   "cell_type": "code",
   "execution_count": 21,
   "id": "86c5f71e",
   "metadata": {},
   "outputs": [],
   "source": [
    "headers = [\"polynomial\", \"degree\", \"Mahler measure\", \"roots outside unit circle\", \n",
    "           \"number of real roots\", \"trace poly\", \"Galois of poly\", \"Galois of trace\", \n",
    "           \"discriminant\", \"galois order\", \"trace galois order\", \"galois ratio\"]"
   ]
  },
  {
   "cell_type": "markdown",
   "id": "a1247e82",
   "metadata": {},
   "source": [
    "## Data Collection\n",
    "Set your value of d (degree) and b (bound for coefficients) here. It will also track and print out the time taken to complete all computations.\n",
    "\n",
    "Feel free to combine the two functions into the same cell if you want the computations to be done all at once."
   ]
  },
  {
   "cell_type": "code",
   "execution_count": 22,
   "id": "9e1a9737",
   "metadata": {},
   "outputs": [],
   "source": [
    "d = 8\n",
    "b = 2"
   ]
  },
  {
   "cell_type": "code",
   "execution_count": 23,
   "id": "540efcf4",
   "metadata": {},
   "outputs": [
    {
     "name": "stdout",
     "output_type": "stream",
     "text": [
      "Time: \n",
      "In seconds: 0.12956619262695312\n",
      "In minutes: 0.0021594365437825522\n",
      "In hours: 3.599060906304253e-05\n"
     ]
    }
   ],
   "source": [
    "start_time = time.time()\n",
    "\n",
    "polys = boxedPolys(d, b)\n",
    "\n",
    "end_time = time.time()\n",
    "sec = end_time - start_time\n",
    "print(\"Time: \")\n",
    "print(\"In seconds: \" + str(sec))\n",
    "print(\"In minutes: \" + str(sec / 60))\n",
    "print(\"In hours: \" + str(sec / 3600))"
   ]
  },
  {
   "cell_type": "code",
   "execution_count": 25,
   "id": "39ff1bf8",
   "metadata": {},
   "outputs": [
    {
     "name": "stdout",
     "output_type": "stream",
     "text": [
      "Time: \n",
      "In seconds: 3.909799575805664\n",
      "In minutes: 0.06516332626342773\n",
      "In hours: 0.0010860554377237956\n"
     ]
    }
   ],
   "source": [
    "start_time = time.time()\n",
    "\n",
    "polyData = [getStats(poly) for poly in polys]\n",
    "df = pd.DataFrame(polyData)\n",
    "\n",
    "end_time = time.time()\n",
    "sec = end_time - start_time\n",
    "print(\"Time: \")\n",
    "print(\"In seconds: \" + str(sec))\n",
    "print(\"In minutes: \" + str(sec / 60))\n",
    "print(\"In hours: \" + str(sec / 3600))"
   ]
  }
 ],
 "metadata": {
  "kernelspec": {
   "display_name": "SageMath 9.5",
   "language": "sage",
   "name": "sagemath"
  },
  "language_info": {
   "codemirror_mode": {
    "name": "ipython",
    "version": 3
   },
   "file_extension": ".py",
   "mimetype": "text/x-python",
   "name": "python",
   "nbconvert_exporter": "python",
   "pygments_lexer": "ipython3",
   "version": "3.10.12"
  }
 },
 "nbformat": 4,
 "nbformat_minor": 5
}
