{
 "cells": [
  {
   "cell_type": "code",
   "execution_count": 8,
   "id": "60bddeeb",
   "metadata": {},
   "outputs": [],
   "source": [
    "R.<x> = PolynomialRing(CC)\n",
    "poly = R(x^12-x^8+x^6-x^4+1)"
   ]
  },
  {
   "cell_type": "code",
   "execution_count": 31,
   "id": "7eeec259",
   "metadata": {},
   "outputs": [],
   "source": [
    "Q.<x> = PolynomialRing(QQ)\n",
    "qpoly = Q(x^12-x^8+x^6-x^4+1)"
   ]
  },
  {
   "cell_type": "code",
   "execution_count": 34,
   "id": "250fc1b4",
   "metadata": {},
   "outputs": [],
   "source": [
    "# computes the galois group for the given polynomial.\n",
    "def getGalois(poly):\n",
    "    # make sure the polynomial is not reducible before\n",
    "    # computing its Galois group\n",
    "    # assert poly.is_irreducible()\n",
    "    K.<a> = NumberField(poly)\n",
    "    G = K.galois_group()\n",
    "    return G.transitive_label()"
   ]
  },
  {
   "cell_type": "code",
   "execution_count": 32,
   "id": "c8a38e8f",
   "metadata": {},
   "outputs": [],
   "source": [
    "def tracePoly(poly):\n",
    "    K.<a> = NumberField(poly)\n",
    "    return (a + 1/a).minpoly()"
   ]
  },
  {
   "cell_type": "code",
   "execution_count": 36,
   "id": "eac15362",
   "metadata": {},
   "outputs": [
    {
     "data": {
      "text/plain": [
       "x^6 - 6*x^4 + 8*x^2 + 1"
      ]
     },
     "execution_count": 36,
     "metadata": {},
     "output_type": "execute_result"
    }
   ],
   "source": [
    "trace = tracePoly(qpoly)\n",
    "trace"
   ]
  },
  {
   "cell_type": "code",
   "execution_count": 40,
   "id": "2b2a4e86",
   "metadata": {},
   "outputs": [
    {
     "data": {
      "text/plain": [
       "[(-1.96489334395323, 1),\n",
       " (-1.50136660691686, 1),\n",
       " (1.50136660691686, 1),\n",
       " (1.96489334395323, 1),\n",
       " (-0.338980149089524*I, 1),\n",
       " (0.338980149089524*I, 1)]"
      ]
     },
     "execution_count": 40,
     "metadata": {},
     "output_type": "execute_result"
    }
   ],
   "source": [
    "traceRoots = R(trace).roots()\n",
    "traceRoots"
   ]
  },
  {
   "cell_type": "code",
   "execution_count": 35,
   "id": "409cf9be",
   "metadata": {},
   "outputs": [
    {
     "data": {
      "text/plain": [
       "'6T11'"
      ]
     },
     "execution_count": 35,
     "metadata": {},
     "output_type": "execute_result"
    }
   ],
   "source": [
    "getGalois(trace)"
   ]
  },
  {
   "cell_type": "code",
   "execution_count": 9,
   "id": "f5c57bee",
   "metadata": {},
   "outputs": [],
   "source": [
    "roots = poly.roots()"
   ]
  },
  {
   "cell_type": "code",
   "execution_count": 11,
   "id": "45de02f6",
   "metadata": {},
   "outputs": [
    {
     "data": {
      "text/plain": [
       "[-0.982446671976615 - 0.186543659024032*I,\n",
       " -0.982446671976615 + 0.186543659024032*I,\n",
       " -0.750683303458431 - 0.660662226791223*I,\n",
       " -0.750683303458431 + 0.660662226791223*I,\n",
       " -1.18375181855820*I,\n",
       " -0.844771669468680*I,\n",
       " 0.844771669468680*I,\n",
       " 1.18375181855820*I,\n",
       " 0.750683303458431 - 0.660662226791223*I,\n",
       " 0.750683303458431 + 0.660662226791223*I,\n",
       " 0.982446671976615 - 0.186543659024032*I,\n",
       " 0.982446671976615 + 0.186543659024032*I]"
      ]
     },
     "execution_count": 11,
     "metadata": {},
     "output_type": "execute_result"
    }
   ],
   "source": [
    "data = [root[0] for root in roots]\n",
    "data"
   ]
  },
  {
   "cell_type": "code",
   "execution_count": 41,
   "id": "e60b7056",
   "metadata": {},
   "outputs": [
    {
     "data": {
      "image/png": "[encoded data removed]",
      "text/plain": [
       "Graphics object consisting of 2 graphics primitives"
      ]
     },
     "execution_count": 41,
     "metadata": {},
     "output_type": "execute_result"
    }
   ],
   "source": [
    "p = list_plot(data, color = \"lime\", size = 25)\n",
    "p\n",
    "c = circle((0, 0), 1, alpha = 0.5, color = \"black\")\n",
    "c\n",
    "\n",
    "c + p"
   ]
  },
  {
   "cell_type": "code",
   "execution_count": null,
   "id": "4bda9f74",
   "metadata": {},
   "outputs": [],
   "source": []
  }
 ],
 "metadata": {
  "kernelspec": {
   "display_name": "SageMath 9.5",
   "language": "sage",
   "name": "sagemath"
  },
  "language_info": {
   "codemirror_mode": {
    "name": "ipython",
    "version": 3
   },
   "file_extension": ".py",
   "mimetype": "text/x-python",
   "name": "python",
   "nbconvert_exporter": "python",
   "pygments_lexer": "ipython3",
   "version": "3.10.12"
  }
 },
 "nbformat": 4,
 "nbformat_minor": 5
}
