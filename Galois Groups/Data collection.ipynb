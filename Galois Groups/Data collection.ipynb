{
 "cells": [
  {
   "cell_type": "markdown",
   "id": "9b85d21b",
   "metadata": {},
   "source": [
    "### Data collection\n",
    "\n",
    "This notebook is used to collect data on polynomials that have low Mahler measure."
   ]
  },
  {
   "cell_type": "code",
   "execution_count": 1,
   "id": "fba83a41",
   "metadata": {},
   "outputs": [],
   "source": [
    "# imports\n",
    "import pandas"
   ]
  }
 ],
 "metadata": {
  "kernelspec": {
   "display_name": "SageMath 9.5",
   "language": "sage",
   "name": "sagemath"
  },
  "language_info": {
   "codemirror_mode": {
    "name": "ipython",
    "version": 3
   },
   "file_extension": ".py",
   "mimetype": "text/x-python",
   "name": "python",
   "nbconvert_exporter": "python",
   "pygments_lexer": "ipython3",
   "version": "3.10.12"
  }
 },
 "nbformat": 4,
 "nbformat_minor": 5
}
